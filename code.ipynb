{
 "cells": [
  {
   "cell_type": "code",
   "execution_count": 1,
   "metadata": {},
   "outputs": [
    {
     "name": "stderr",
     "output_type": "stream",
     "text": [
      "\n",
      "\n",
      "====== WebDriver manager ======\n",
      "Current google-chrome version is 100.0.4896\n",
      "Get LATEST chromedriver version for 100.0.4896 google-chrome\n",
      "Trying to download new driver from https://chromedriver.storage.googleapis.com/100.0.4896.60/chromedriver_mac64.zip\n",
      "Driver has been saved in cache [/Users/qinanyu/.wdm/drivers/chromedriver/mac64/100.0.4896.60]\n"
     ]
    },
    {
     "name": "stdout",
     "output_type": "stream",
     "text": [
      "[<selenium.webdriver.remote.webelement.WebElement (session=\"bc4f6fd42b179cc6dc7f3a5dc352bb34\", element=\"13256eaa-242c-4966-83c9-92135494c120\")>, <selenium.webdriver.remote.webelement.WebElement (session=\"bc4f6fd42b179cc6dc7f3a5dc352bb34\", element=\"a76fd30d-82d8-43ca-b2b0-bb3846fdd717\")>, <selenium.webdriver.remote.webelement.WebElement (session=\"bc4f6fd42b179cc6dc7f3a5dc352bb34\", element=\"63353a15-efd9-4f8b-922e-c77cdb5a8ef7\")>, <selenium.webdriver.remote.webelement.WebElement (session=\"bc4f6fd42b179cc6dc7f3a5dc352bb34\", element=\"f1f1d45e-bfeb-4cea-b7f4-321dbacee250\")>, <selenium.webdriver.remote.webelement.WebElement (session=\"bc4f6fd42b179cc6dc7f3a5dc352bb34\", element=\"318ab59f-cc64-4aab-b327-8ae985fb445a\")>]\n"
     ]
    },
    {
     "ename": "ElementClickInterceptedException",
     "evalue": "Message: element click intercepted: Element <li class=\"WGLR\" role=\"presentation\">...</li> is not clickable at point (269, 96). Other element would receive the click: <div class=\"WGT\">...</div>\n  (Session info: chrome=100.0.4896.127)\nStacktrace:\n0   chromedriver                        0x0000000106d7a3d9 chromedriver + 5104601\n1   chromedriver                        0x0000000106d0abf3 chromedriver + 4647923\n2   chromedriver                        0x00000001068fbb48 chromedriver + 392008\n3   chromedriver                        0x00000001069383c1 chromedriver + 639937\n4   chromedriver                        0x0000000106935fa9 chromedriver + 630697\n5   chromedriver                        0x0000000106933674 chromedriver + 620148\n6   chromedriver                        0x0000000106932432 chromedriver + 615474\n7   chromedriver                        0x0000000106925d79 chromedriver + 564601\n8   chromedriver                        0x000000010694e6c2 chromedriver + 730818\n9   chromedriver                        0x0000000106925635 chromedriver + 562741\n10  chromedriver                        0x000000010694e7ce chromedriver + 731086\n11  chromedriver                        0x0000000106961091 chromedriver + 807057\n12  chromedriver                        0x000000010694e5b3 chromedriver + 730547\n13  chromedriver                        0x0000000106924139 chromedriver + 557369\n14  chromedriver                        0x0000000106925165 chromedriver + 561509\n15  chromedriver                        0x0000000106d3939d chromedriver + 4838301\n16  chromedriver                        0x0000000106d51cde chromedriver + 4938974\n17  chromedriver                        0x0000000106d56b5e chromedriver + 4959070\n18  chromedriver                        0x0000000106d5294a chromedriver + 4942154\n19  chromedriver                        0x0000000106d2e33c chromedriver + 4793148\n20  chromedriver                        0x0000000106d6c3b8 chromedriver + 5047224\n21  chromedriver                        0x0000000106d6c53f chromedriver + 5047615\n22  chromedriver                        0x0000000106d81705 chromedriver + 5134085\n23  libsystem_pthread.dylib             0x00007ff803e124e1 _pthread_start + 125\n24  libsystem_pthread.dylib             0x00007ff803e0df6b thread_start + 15\n",
     "output_type": "error",
     "traceback": [
      "\u001b[0;31m---------------------------------------------------------------------------\u001b[0m",
      "\u001b[0;31mElementClickInterceptedException\u001b[0m          Traceback (most recent call last)",
      "\u001b[1;32m/Users/qinanyu/Desktop/workday_Selenium/code.ipynb Cell 1'\u001b[0m in \u001b[0;36m<module>\u001b[0;34m\u001b[0m\n\u001b[1;32m     <a href='vscode-notebook-cell:/Users/qinanyu/Desktop/workday_Selenium/code.ipynb#ch0000000?line=40'>41</a>\u001b[0m position  \u001b[39m=\u001b[39m driver\u001b[39m.\u001b[39mfind_element(By\u001b[39m.\u001b[39mXPATH, \u001b[39m\"\u001b[39m\u001b[39m//li [@class = \u001b[39m\u001b[39m'\u001b[39m\u001b[39mWGLR\u001b[39m\u001b[39m'\u001b[39m\u001b[39m][\u001b[39m\u001b[39m'\u001b[39m\u001b[39m3\u001b[39m\u001b[39m'\u001b[39m\u001b[39m]\u001b[39m\u001b[39m\"\u001b[39m)\n\u001b[1;32m     <a href='vscode-notebook-cell:/Users/qinanyu/Desktop/workday_Selenium/code.ipynb#ch0000000?line=41'>42</a>\u001b[0m position  \u001b[39m=\u001b[39m driver\u001b[39m.\u001b[39mfind_element(By\u001b[39m.\u001b[39mXPATH, \u001b[39m\"\u001b[39m\u001b[39m//li [@class = \u001b[39m\u001b[39m'\u001b[39m\u001b[39mWGLR\u001b[39m\u001b[39m'\u001b[39m\u001b[39m][\u001b[39m\u001b[39m'\u001b[39m\u001b[39m4\u001b[39m\u001b[39m'\u001b[39m\u001b[39m]\u001b[39m\u001b[39m\"\u001b[39m)\n\u001b[0;32m---> <a href='vscode-notebook-cell:/Users/qinanyu/Desktop/workday_Selenium/code.ipynb#ch0000000?line=42'>43</a>\u001b[0m position\u001b[39m.\u001b[39;49mclick()\n\u001b[1;32m     <a href='vscode-notebook-cell:/Users/qinanyu/Desktop/workday_Selenium/code.ipynb#ch0000000?line=44'>45</a>\u001b[0m driver\u001b[39m.\u001b[39mexecute_script(\u001b[39m\"\u001b[39m\u001b[39mwindow.scrollTO(0,-250);\u001b[39m\u001b[39m\"\u001b[39m,\u001b[39m\"\u001b[39m\u001b[39m\"\u001b[39m)\n\u001b[1;32m     <a href='vscode-notebook-cell:/Users/qinanyu/Desktop/workday_Selenium/code.ipynb#ch0000000?line=45'>46</a>\u001b[0m WebDriverWait(driver,\u001b[39m120\u001b[39m)\u001b[39m.\u001b[39muntil(EC\u001b[39m.\u001b[39mpresence_of_element_located((By\u001b[39m.\u001b[39mXPATH, \u001b[39m\"\u001b[39m\u001b[39m//buttonqyu1[@class = \u001b[39m\u001b[39m'\u001b[39m\u001b[39mWPJN WOVO WP2N WDLN WDKN\u001b[39m\u001b[39m'\u001b[39m\u001b[39m]\u001b[39m\u001b[39m\"\u001b[39m)))\n",
      "File \u001b[0;32m/Library/Frameworks/Python.framework/Versions/3.9/lib/python3.9/site-packages/selenium/webdriver/remote/webelement.py:81\u001b[0m, in \u001b[0;36mWebElement.click\u001b[0;34m(self)\u001b[0m\n\u001b[1;32m     <a href='file:///Library/Frameworks/Python.framework/Versions/3.9/lib/python3.9/site-packages/selenium/webdriver/remote/webelement.py?line=78'>79</a>\u001b[0m \u001b[39mdef\u001b[39;00m \u001b[39mclick\u001b[39m(\u001b[39mself\u001b[39m) \u001b[39m-\u001b[39m\u001b[39m>\u001b[39m \u001b[39mNone\u001b[39;00m:\n\u001b[1;32m     <a href='file:///Library/Frameworks/Python.framework/Versions/3.9/lib/python3.9/site-packages/selenium/webdriver/remote/webelement.py?line=79'>80</a>\u001b[0m     \u001b[39m\"\"\"Clicks the element.\"\"\"\u001b[39;00m\n\u001b[0;32m---> <a href='file:///Library/Frameworks/Python.framework/Versions/3.9/lib/python3.9/site-packages/selenium/webdriver/remote/webelement.py?line=80'>81</a>\u001b[0m     \u001b[39mself\u001b[39;49m\u001b[39m.\u001b[39;49m_execute(Command\u001b[39m.\u001b[39;49mCLICK_ELEMENT)\n",
      "File \u001b[0;32m/Library/Frameworks/Python.framework/Versions/3.9/lib/python3.9/site-packages/selenium/webdriver/remote/webelement.py:710\u001b[0m, in \u001b[0;36mWebElement._execute\u001b[0;34m(self, command, params)\u001b[0m\n\u001b[1;32m    <a href='file:///Library/Frameworks/Python.framework/Versions/3.9/lib/python3.9/site-packages/selenium/webdriver/remote/webelement.py?line=707'>708</a>\u001b[0m     params \u001b[39m=\u001b[39m {}\n\u001b[1;32m    <a href='file:///Library/Frameworks/Python.framework/Versions/3.9/lib/python3.9/site-packages/selenium/webdriver/remote/webelement.py?line=708'>709</a>\u001b[0m params[\u001b[39m'\u001b[39m\u001b[39mid\u001b[39m\u001b[39m'\u001b[39m] \u001b[39m=\u001b[39m \u001b[39mself\u001b[39m\u001b[39m.\u001b[39m_id\n\u001b[0;32m--> <a href='file:///Library/Frameworks/Python.framework/Versions/3.9/lib/python3.9/site-packages/selenium/webdriver/remote/webelement.py?line=709'>710</a>\u001b[0m \u001b[39mreturn\u001b[39;00m \u001b[39mself\u001b[39;49m\u001b[39m.\u001b[39;49m_parent\u001b[39m.\u001b[39;49mexecute(command, params)\n",
      "File \u001b[0;32m/Library/Frameworks/Python.framework/Versions/3.9/lib/python3.9/site-packages/selenium/webdriver/remote/webdriver.py:425\u001b[0m, in \u001b[0;36mWebDriver.execute\u001b[0;34m(self, driver_command, params)\u001b[0m\n\u001b[1;32m    <a href='file:///Library/Frameworks/Python.framework/Versions/3.9/lib/python3.9/site-packages/selenium/webdriver/remote/webdriver.py?line=422'>423</a>\u001b[0m response \u001b[39m=\u001b[39m \u001b[39mself\u001b[39m\u001b[39m.\u001b[39mcommand_executor\u001b[39m.\u001b[39mexecute(driver_command, params)\n\u001b[1;32m    <a href='file:///Library/Frameworks/Python.framework/Versions/3.9/lib/python3.9/site-packages/selenium/webdriver/remote/webdriver.py?line=423'>424</a>\u001b[0m \u001b[39mif\u001b[39;00m response:\n\u001b[0;32m--> <a href='file:///Library/Frameworks/Python.framework/Versions/3.9/lib/python3.9/site-packages/selenium/webdriver/remote/webdriver.py?line=424'>425</a>\u001b[0m     \u001b[39mself\u001b[39;49m\u001b[39m.\u001b[39;49merror_handler\u001b[39m.\u001b[39;49mcheck_response(response)\n\u001b[1;32m    <a href='file:///Library/Frameworks/Python.framework/Versions/3.9/lib/python3.9/site-packages/selenium/webdriver/remote/webdriver.py?line=425'>426</a>\u001b[0m     response[\u001b[39m'\u001b[39m\u001b[39mvalue\u001b[39m\u001b[39m'\u001b[39m] \u001b[39m=\u001b[39m \u001b[39mself\u001b[39m\u001b[39m.\u001b[39m_unwrap_value(\n\u001b[1;32m    <a href='file:///Library/Frameworks/Python.framework/Versions/3.9/lib/python3.9/site-packages/selenium/webdriver/remote/webdriver.py?line=426'>427</a>\u001b[0m         response\u001b[39m.\u001b[39mget(\u001b[39m'\u001b[39m\u001b[39mvalue\u001b[39m\u001b[39m'\u001b[39m, \u001b[39mNone\u001b[39;00m))\n\u001b[1;32m    <a href='file:///Library/Frameworks/Python.framework/Versions/3.9/lib/python3.9/site-packages/selenium/webdriver/remote/webdriver.py?line=427'>428</a>\u001b[0m     \u001b[39mreturn\u001b[39;00m response\n",
      "File \u001b[0;32m/Library/Frameworks/Python.framework/Versions/3.9/lib/python3.9/site-packages/selenium/webdriver/remote/errorhandler.py:247\u001b[0m, in \u001b[0;36mErrorHandler.check_response\u001b[0;34m(self, response)\u001b[0m\n\u001b[1;32m    <a href='file:///Library/Frameworks/Python.framework/Versions/3.9/lib/python3.9/site-packages/selenium/webdriver/remote/errorhandler.py?line=244'>245</a>\u001b[0m         alert_text \u001b[39m=\u001b[39m value[\u001b[39m'\u001b[39m\u001b[39malert\u001b[39m\u001b[39m'\u001b[39m]\u001b[39m.\u001b[39mget(\u001b[39m'\u001b[39m\u001b[39mtext\u001b[39m\u001b[39m'\u001b[39m)\n\u001b[1;32m    <a href='file:///Library/Frameworks/Python.framework/Versions/3.9/lib/python3.9/site-packages/selenium/webdriver/remote/errorhandler.py?line=245'>246</a>\u001b[0m     \u001b[39mraise\u001b[39;00m exception_class(message, screen, stacktrace, alert_text)  \u001b[39m# type: ignore[call-arg]  # mypy is not smart enough here\u001b[39;00m\n\u001b[0;32m--> <a href='file:///Library/Frameworks/Python.framework/Versions/3.9/lib/python3.9/site-packages/selenium/webdriver/remote/errorhandler.py?line=246'>247</a>\u001b[0m \u001b[39mraise\u001b[39;00m exception_class(message, screen, stacktrace)\n",
      "\u001b[0;31mElementClickInterceptedException\u001b[0m: Message: element click intercepted: Element <li class=\"WGLR\" role=\"presentation\">...</li> is not clickable at point (269, 96). Other element would receive the click: <div class=\"WGT\">...</div>\n  (Session info: chrome=100.0.4896.127)\nStacktrace:\n0   chromedriver                        0x0000000106d7a3d9 chromedriver + 5104601\n1   chromedriver                        0x0000000106d0abf3 chromedriver + 4647923\n2   chromedriver                        0x00000001068fbb48 chromedriver + 392008\n3   chromedriver                        0x00000001069383c1 chromedriver + 639937\n4   chromedriver                        0x0000000106935fa9 chromedriver + 630697\n5   chromedriver                        0x0000000106933674 chromedriver + 620148\n6   chromedriver                        0x0000000106932432 chromedriver + 615474\n7   chromedriver                        0x0000000106925d79 chromedriver + 564601\n8   chromedriver                        0x000000010694e6c2 chromedriver + 730818\n9   chromedriver                        0x0000000106925635 chromedriver + 562741\n10  chromedriver                        0x000000010694e7ce chromedriver + 731086\n11  chromedriver                        0x0000000106961091 chromedriver + 807057\n12  chromedriver                        0x000000010694e5b3 chromedriver + 730547\n13  chromedriver                        0x0000000106924139 chromedriver + 557369\n14  chromedriver                        0x0000000106925165 chromedriver + 561509\n15  chromedriver                        0x0000000106d3939d chromedriver + 4838301\n16  chromedriver                        0x0000000106d51cde chromedriver + 4938974\n17  chromedriver                        0x0000000106d56b5e chromedriver + 4959070\n18  chromedriver                        0x0000000106d5294a chromedriver + 4942154\n19  chromedriver                        0x0000000106d2e33c chromedriver + 4793148\n20  chromedriver                        0x0000000106d6c3b8 chromedriver + 5047224\n21  chromedriver                        0x0000000106d6c53f chromedriver + 5047615\n22  chromedriver                        0x0000000106d81705 chromedriver + 5134085\n23  libsystem_pthread.dylib             0x00007ff803e124e1 _pthread_start + 125\n24  libsystem_pthread.dylib             0x00007ff803e0df6b thread_start + 15\n"
     ]
    }
   ],
   "source": [
    "from selenium import webdriver\n",
    "from selenium.webdriver.chrome.service import Service\n",
    "from webdriver_manager.chrome import ChromeDriverManager\n",
    "from selenium.webdriver.common.by import By\n",
    "from selenium.webdriver.support.ui import WebDriverWait\n",
    "from selenium.webdriver.support import expected_conditions as EC\n",
    "from selenium.webdriver import ActionChains\n",
    "from selenium.webdriver.common.keys import Keys\n",
    "\n",
    "driver = webdriver.Chrome(service=Service(ChromeDriverManager().install()))\n",
    "driver.delete_all_cookies()\n",
    "driver.get(\"https://wd5.myworkday.com/brown/d/task/2997$4767.htmld\")\n",
    "\n",
    "WebDriverWait(driver,120).until(EC.presence_of_element_located((By.XPATH, \"//div[@data-automation-widget='applicationHeader']\")))\n",
    "WebDriverWait(driver,120).until(EC.presence_of_element_located((By.XPATH, \"//td[@class='centerDayContainerCell']\")))\n",
    "\n",
    "element = driver.find_element(By.XPATH,\"//td[@class='centerDayContainerCell']\")\n",
    "element.click()\n",
    "\n",
    "WebDriverWait(driver,120).until(EC.presence_of_element_located((By.XPATH, \"//span[@title = 'Details']\")))\n",
    "elements = driver.find_elements(By.XPATH, \"//input[@class = 'gwt-TextBox WNW2 WHX2']\")\n",
    "input = elements[0]\n",
    "output = elements[1]\n",
    "input.send_keys('6pm')\n",
    "WebDriverWait(driver,5)\n",
    "input.send_keys(Keys.ENTER)\n",
    "\n",
    "output.send_keys('8pm')\n",
    "WebDriverWait(driver,5)\n",
    "output.send_keys(Keys.ENTER)\n",
    "\n",
    "\n",
    "dropdown = driver.find_elements(By.XPATH, \"//div[@class='WOF0']\")[1]\n",
    "dropdown.click()\n",
    "WebDriverWait(driver,120).until(EC.presence_of_element_located((By.XPATH, \"//ul [@class ='WCLR WHLR WINR']\")))\n",
    "element = driver.find_elements(By.XPATH, \"//li [@class = 'WGLR']\")\n",
    "print(element)\n",
    "driver.execute_script(\"window.scrollBy(0,-50);\",\"\")\n",
    "position  = driver.find_element(By.XPATH, \"//li [@class = 'WGLR']['4']\")\n",
    "position  = driver.find_element(By.XPATH, \"//li [@class = 'WGLR']['2']\")\n",
    "position  = driver.find_element(By.XPATH, \"//li [@class = 'WGLR']['3']\")\n",
    "position  = driver.find_element(By.XPATH, \"//li [@class = 'WGLR']['4']\")\n",
    "position.click()\n",
    "\n",
    "driver.execute_script(\"window.scrollTO(0,-250);\",\"\")\n",
    "WebDriverWait(driver,120).until(EC.presence_of_element_located((By.XPATH, \"//buttonqyu1[@class = 'WPJN WOVO WP2N WDLN WDKN']\")))\n",
    "OK = driver.find_element(By.XPATH, \"//button[@class = 'WPJN WOVO WP2N WDLN WDKN']\")\n",
    "OK.click()\n",
    "\n",
    "WebDriverWait(driver, 10)\n",
    "\n"
   ]
  }
 ],
 "metadata": {
  "interpreter": {
   "hash": "aee8b7b246df8f9039afb4144a1f6fd8d2ca17a180786b69acc140d282b71a49"
  },
  "kernelspec": {
   "display_name": "Python 3.9.0 64-bit",
   "language": "python",
   "name": "python3"
  },
  "language_info": {
   "codemirror_mode": {
    "name": "ipython",
    "version": 3
   },
   "file_extension": ".py",
   "mimetype": "text/x-python",
   "name": "python",
   "nbconvert_exporter": "python",
   "pygments_lexer": "ipython3",
   "version": "3.9.0"
  },
  "orig_nbformat": 4
 },
 "nbformat": 4,
 "nbformat_minor": 2
}
