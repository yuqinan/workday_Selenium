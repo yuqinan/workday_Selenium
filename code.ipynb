{
 "cells": [
  {
   "cell_type": "code",
   "execution_count": 15,
   "metadata": {},
   "outputs": [
    {
     "name": "stderr",
     "output_type": "stream",
     "text": [
      "\n",
      "\n",
      "====== WebDriver manager ======\n",
      "Current google-chrome version is 100.0.4896\n",
      "Get LATEST chromedriver version for 100.0.4896 google-chrome\n",
      "Driver [/Users/qinanyu/.wdm/drivers/chromedriver/mac64/100.0.4896.60/chromedriver] found in cache\n"
     ]
    },
    {
     "ename": "KeyboardInterrupt",
     "evalue": "",
     "output_type": "error",
     "traceback": [
      "\u001b[0;31m---------------------------------------------------------------------------\u001b[0m",
      "\u001b[0;31mKeyboardInterrupt\u001b[0m                         Traceback (most recent call last)",
      "\u001b[1;32m/Users/qinanyu/Desktop/workday_Selenium/code.ipynb Cell 1'\u001b[0m in \u001b[0;36m<module>\u001b[0;34m\u001b[0m\n\u001b[1;32m     <a href='vscode-notebook-cell:/Users/qinanyu/Desktop/workday_Selenium/code.ipynb#ch0000000?line=29'>30</a>\u001b[0m output\u001b[39m.\u001b[39msend_keys(Keys\u001b[39m.\u001b[39mENTER)\n\u001b[1;32m     <a href='vscode-notebook-cell:/Users/qinanyu/Desktop/workday_Selenium/code.ipynb#ch0000000?line=32'>33</a>\u001b[0m dropdown \u001b[39m=\u001b[39m driver\u001b[39m.\u001b[39mfind_elements(By\u001b[39m.\u001b[39mXPATH, \u001b[39m\"\u001b[39m\u001b[39m//div[@class=\u001b[39m\u001b[39m'\u001b[39m\u001b[39mWOF0\u001b[39m\u001b[39m'\u001b[39m\u001b[39m]\u001b[39m\u001b[39m\"\u001b[39m)[\u001b[39m0\u001b[39m]\n\u001b[0;32m---> <a href='vscode-notebook-cell:/Users/qinanyu/Desktop/workday_Selenium/code.ipynb#ch0000000?line=33'>34</a>\u001b[0m WebDriverWait(driver,\u001b[39m120\u001b[39;49m)\u001b[39m.\u001b[39;49muntil(EC\u001b[39m.\u001b[39;49mpresence_of_element_located((By\u001b[39m.\u001b[39;49mXPATH, \u001b[39m\"\u001b[39;49m\u001b[39m//ul [@class =\u001b[39;49m\u001b[39m'\u001b[39;49m\u001b[39mWCLR WHLR WINR\u001b[39;49m\u001b[39m'\u001b[39;49m\u001b[39m]\u001b[39;49m\u001b[39m\"\u001b[39;49m)))\n\u001b[1;32m     <a href='vscode-notebook-cell:/Users/qinanyu/Desktop/workday_Selenium/code.ipynb#ch0000000?line=34'>35</a>\u001b[0m position  \u001b[39m=\u001b[39m driver\u001b[39m.\u001b[39mfind_elements(By\u001b[39m.\u001b[39mXPATH, \u001b[39m\"\u001b[39m\u001b[39m//li [@class = \u001b[39m\u001b[39m'\u001b[39m\u001b[39mWGLR\u001b[39m\u001b[39m'\u001b[39m\u001b[39m]\u001b[39m\u001b[39m\"\u001b[39m)[\u001b[39m-\u001b[39m\u001b[39m1\u001b[39m]\n\u001b[1;32m     <a href='vscode-notebook-cell:/Users/qinanyu/Desktop/workday_Selenium/code.ipynb#ch0000000?line=35'>36</a>\u001b[0m position\u001b[39m.\u001b[39mclick()\n",
      "File \u001b[0;32m/Library/Frameworks/Python.framework/Versions/3.9/lib/python3.9/site-packages/selenium/webdriver/support/wait.py:86\u001b[0m, in \u001b[0;36mWebDriverWait.until\u001b[0;34m(self, method, message)\u001b[0m\n\u001b[1;32m     <a href='file:///Library/Frameworks/Python.framework/Versions/3.9/lib/python3.9/site-packages/selenium/webdriver/support/wait.py?line=83'>84</a>\u001b[0m     screen \u001b[39m=\u001b[39m \u001b[39mgetattr\u001b[39m(exc, \u001b[39m'\u001b[39m\u001b[39mscreen\u001b[39m\u001b[39m'\u001b[39m, \u001b[39mNone\u001b[39;00m)\n\u001b[1;32m     <a href='file:///Library/Frameworks/Python.framework/Versions/3.9/lib/python3.9/site-packages/selenium/webdriver/support/wait.py?line=84'>85</a>\u001b[0m     stacktrace \u001b[39m=\u001b[39m \u001b[39mgetattr\u001b[39m(exc, \u001b[39m'\u001b[39m\u001b[39mstacktrace\u001b[39m\u001b[39m'\u001b[39m, \u001b[39mNone\u001b[39;00m)\n\u001b[0;32m---> <a href='file:///Library/Frameworks/Python.framework/Versions/3.9/lib/python3.9/site-packages/selenium/webdriver/support/wait.py?line=85'>86</a>\u001b[0m time\u001b[39m.\u001b[39;49msleep(\u001b[39mself\u001b[39;49m\u001b[39m.\u001b[39;49m_poll)\n\u001b[1;32m     <a href='file:///Library/Frameworks/Python.framework/Versions/3.9/lib/python3.9/site-packages/selenium/webdriver/support/wait.py?line=86'>87</a>\u001b[0m \u001b[39mif\u001b[39;00m time\u001b[39m.\u001b[39mtime() \u001b[39m>\u001b[39m end_time:\n\u001b[1;32m     <a href='file:///Library/Frameworks/Python.framework/Versions/3.9/lib/python3.9/site-packages/selenium/webdriver/support/wait.py?line=87'>88</a>\u001b[0m     \u001b[39mbreak\u001b[39;00m\n",
      "\u001b[0;31mKeyboardInterrupt\u001b[0m: "
     ]
    }
   ],
   "source": [
    "from selenium import webdriver\n",
    "from selenium.webdriver.chrome.service import Service\n",
    "from webdriver_manager.chrome import ChromeDriverManager\n",
    "from selenium.webdriver.common.by import By\n",
    "from selenium.webdriver.support.ui import WebDriverWait\n",
    "from selenium.webdriver.support import expected_conditions as EC\n",
    "from selenium.webdriver import ActionChains\n",
    "from selenium.webdriver.common.keys import Keys\n",
    "\n",
    "driver = webdriver.Chrome(service=Service(ChromeDriverManager().install()))\n",
    "driver.delete_all_cookies()\n",
    "driver.get(\"https://wd5.myworkday.com/brown/d/task/2997$4767.htmld\")\n",
    "\n",
    "WebDriverWait(driver,120).until(EC.presence_of_element_located((By.XPATH, \"//div[@data-automation-widget='applicationHeader']\")))\n",
    "WebDriverWait(driver,120).until(EC.presence_of_element_located((By.XPATH, \"//td[@class='centerDayContainerCell']\")))\n",
    "\n",
    "element = driver.find_element(By.XPATH,\"//td[@class='centerDayContainerCell']\")\n",
    "element.click()\n",
    "\n",
    "WebDriverWait(driver,120).until(EC.presence_of_element_located((By.XPATH, \"//span[@title = 'Details']\")))\n",
    "elements = driver.find_elements(By.XPATH, \"//input[@class = 'gwt-TextBox WNW2 WHX2']\")\n",
    "input = elements[0]\n",
    "output = elements[1]\n",
    "input.send_keys('6pm')\n",
    "WebDriverWait(driver,5)\n",
    "input.send_keys(Keys.ENTER)\n",
    "\n",
    "output.send_keys('8pm')\n",
    "WebDriverWait(driver,5)\n",
    "output.send_keys(Keys.ENTER)\n",
    "\n",
    "\n",
    "dropdown = driver.find_elements(By.XPATH, \"//div[@class='WOF0']\")[0]\n",
    "WebDriverWait(driver,120).until(EC.presence_of_element_located((By.XPATH, \"//ul [@class ='WCLR WHLR WINR']\")))\n",
    "position  = driver.find_elements(By.XPATH, \"//li [@class = 'WGLR']\")[-1]\n",
    "position.click()\n",
    "\n",
    "driver.execute_script(\"window.scrollBy(0,-250);\",\"\")\n",
    "WebDriverWait(driver,120).until(EC.presence_of_element_located((By.XPATH, \"//button[@class = 'WPJN WOVO WP2N WDLN WDKN']\")))\n",
    "OK = driver.find_element(By.XPATH, \"//button[@class = 'WPJN WOVO WP2N WDLN WDKN']\")\n",
    "OK.click()\n",
    "\n",
    "WebDriverWait(driver, 10)\n",
    "\n"
   ]
  }
 ],
 "metadata": {
  "interpreter": {
   "hash": "aee8b7b246df8f9039afb4144a1f6fd8d2ca17a180786b69acc140d282b71a49"
  },
  "kernelspec": {
   "display_name": "Python 3.9.0 64-bit",
   "language": "python",
   "name": "python3"
  },
  "language_info": {
   "codemirror_mode": {
    "name": "ipython",
    "version": 3
   },
   "file_extension": ".py",
   "mimetype": "text/x-python",
   "name": "python",
   "nbconvert_exporter": "python",
   "pygments_lexer": "ipython3",
   "version": "3.9.0"
  },
  "orig_nbformat": 4
 },
 "nbformat": 4,
 "nbformat_minor": 2
}
